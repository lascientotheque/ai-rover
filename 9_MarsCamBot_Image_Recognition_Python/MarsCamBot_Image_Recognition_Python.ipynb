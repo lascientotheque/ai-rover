{
 "cells": [
  {
   "cell_type": "code",
   "execution_count": 9,
   "id": "bfab0cc8",
   "metadata": {},
   "outputs": [],
   "source": [
    "from picamera import PiCamera\n",
    "import time\n",
    "import matplotlib.pyplot as plt\n",
    "from picamera.array import PiRGBArray\n",
    "from IPython.display import display, Image"
   ]
  },
  {
   "cell_type": "markdown",
   "id": "336be04a",
   "metadata": {},
   "source": [
    "## Camera"
   ]
  },
  {
   "cell_type": "code",
   "execution_count": null,
   "id": "8b152eb3",
   "metadata": {},
   "outputs": [],
   "source": []
  }
 ],
 "metadata": {
  "kernelspec": {
   "display_name": "Python 3 (ipykernel)",
   "language": "python",
   "name": "python3"
  },
  "language_info": {
   "codemirror_mode": {
    "name": "ipython",
    "version": 3
   },
   "file_extension": ".py",
   "mimetype": "text/x-python",
   "name": "python",
   "nbconvert_exporter": "python",
   "pygments_lexer": "ipython3",
   "version": "3.7.3"
  }
 },
 "nbformat": 4,
 "nbformat_minor": 5
}
