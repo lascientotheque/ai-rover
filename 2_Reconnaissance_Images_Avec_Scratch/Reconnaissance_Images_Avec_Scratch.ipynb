{
 "cells": [
  {
   "cell_type": "markdown",
   "id": "190d1c10",
   "metadata": {},
   "source": [
    "# Reconnaissance d'images avec Scratch\n",
    "\n",
    "Cette activité vise à créer un programme simple de reconnaissance d'image avec Scratch. Le programme consistera à faire dire au lutin ce qu'il voit avec la caméra. \n",
    "\n",
    "Nous utiliserons les modèle créé avec la Teachable Machine lors de l'activité 1. \n",
    "\n",
    "\n",
    "## Créer un compte sur Adacraft\n",
    "\n",
    "Adacraft est une version modifiée de Scratch qui inclue des extensions pour l'intelligence artificielle. Nous utiliserons dans cette activité l'extension 'AdaVision', qui permet d'importer un modèle de reconnaissance d'image de la Google Teachable Machine, et d'associer des actions en fonctions de l'image reconnue à la caméra. \n",
    "\n",
    "La première étape consiste à se créer un compte sur Adacraft. Pour ceci, rendez-vous sur https://www.adacraft.org/ puis créer-vous un compte en cliquant sur 'Sign-up'. \n",
    "\n",
    "## Charger le programme de contrôle\n",
    "\n",
    "Ouvrir l'interface de programmation en cliquant sur 'Start Creating'. \n",
    "\n",
    "https://teachablemachine.withgoogle.com/models/MXtRcJyFU/\n",
    "\n",
    "Ouvrir le programme Scratch\n",
    "\n",
    "\n",
    "* Autoriser Adacraft à accéder à la caméra\n",
    "* Ajouter le vidéo sensing\n",
    "* Lancer une première détection d'images pour initialiser la détection\n",
    "* Lancer le programme\n",
    "\n",
    "\n",
    "<img src=\"images/logigramme_image_recognition.jpg\" alt=\"drawing\" width=\"600\"/> \n",
    "\n",
    "<img src=\"images/scratch_programme.jpg\" alt=\"drawing\" width=\"600\"/> \n",
    "\n",
    "Vidéo Youtube: https://www.youtube.com/watch?v=0lR5gxJSoBw, https://youtu.be/eEVve89Efa0\n",
    "\n",
    "Sol martien avec un tube:\n",
    "\n",
    "<img src=\"images/sol-martien-avec-tube.png\" alt=\"drawing\" width=\"600\"/> \n",
    "\n",
    "* Logigramme: https://www.infoqualite.fr/fiche-outil-le-logigramme/\n",
    "* https://troumad.developpez.com/C/algorigrammes/\n",
    "\n"
   ]
  },
  {
   "cell_type": "code",
   "execution_count": null,
   "id": "78b3faac",
   "metadata": {},
   "outputs": [],
   "source": []
  }
 ],
 "metadata": {
  "kernelspec": {
   "display_name": "Python 3 (ipykernel)",
   "language": "python",
   "name": "python3"
  },
  "language_info": {
   "codemirror_mode": {
    "name": "ipython",
    "version": 3
   },
   "file_extension": ".py",
   "mimetype": "text/x-python",
   "name": "python",
   "nbconvert_exporter": "python",
   "pygments_lexer": "ipython3",
   "version": "3.9.7"
  }
 },
 "nbformat": 4,
 "nbformat_minor": 5
}
