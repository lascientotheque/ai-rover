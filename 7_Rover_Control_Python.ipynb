{
 "cells": [
  {
   "cell_type": "markdown",
   "id": "dc495c15",
   "metadata": {},
   "source": [
    "# Contrôle d'un rover avec Python\n",
    "\n",
    "Les étapes sont les suivantes\n",
    "\n",
    "1. Contrôle des moteurs\n",
    "2. Test de la caméra\n",
    "3. Créer un modèle de classification d'images\n",
    "4. Exporter le modèle pour Raspberry\n",
    "5. Ajout du code pour classer les images de la caméra\n",
    "6. Contrôler le moteur avec la reconnaissance d'images\n",
    "\n",
    "\n"
   ]
  },
  {
   "cell_type": "code",
   "execution_count": 2,
   "id": "388a5fd7",
   "metadata": {},
   "outputs": [
    {
     "data": {
      "text/plain": [
       "str"
      ]
     },
     "execution_count": 2,
     "metadata": {},
     "output_type": "execute_result"
    }
   ],
   "source": [
    "a=\"lkj\"\n",
    "type(a)\n"
   ]
  },
  {
   "cell_type": "code",
   "execution_count": null,
   "id": "75203be2",
   "metadata": {},
   "outputs": [],
   "source": []
  },
  {
   "cell_type": "code",
   "execution_count": null,
   "id": "d701d740",
   "metadata": {},
   "outputs": [],
   "source": []
  },
  {
   "cell_type": "markdown",
   "id": "83fa5b9d",
   "metadata": {},
   "source": [
    "## Installation\n",
    "\n",
    "Voir fiche installation. \n",
    "\n",
    "On peut travailler directement sur le RPi, en le connectant à un écran, un clavier, et une souris. \n",
    "\n",
    "* Trouver l'IP du RPi\n",
    "    * Connecter le RPi à un écran, clavier, souris, et cable Ethernet, et regarder quelle IP lui est attribuée.\n",
    "    * Installer Nmap - https://howtoraspberrypi.com/find-raspberry-pi-ip-address/ - https://nmap.org/download.html#macosx\n",
    "\n",
    "\n",
    "```\n",
    "\n",
    "nmap -sP 169.254.186.1-253/24\n",
    "\n",
    "ssh pi@169.254.186.223\n",
    "\n",
    "ssh pi@192.168.1.54\n",
    "\n",
    "\n",
    "VNC password: raspberry\n",
    "\n",
    "Changer le mot de passe VNC depuis la ligne de commande:  vncpasswd\n",
    "\n",
    "\n",
    "\n",
    "```\n",
    "\n"
   ]
  },
  {
   "cell_type": "markdown",
   "id": "f5c345fb",
   "metadata": {},
   "source": [
    "## Contrôle des moteurs\n",
    "\n",
    "\n",
    "\n"
   ]
  }
 ],
 "metadata": {
  "kernelspec": {
   "display_name": "Python 3 (ipykernel)",
   "language": "python",
   "name": "python3"
  },
  "language_info": {
   "codemirror_mode": {
    "name": "ipython",
    "version": 3
   },
   "file_extension": ".py",
   "mimetype": "text/x-python",
   "name": "python",
   "nbconvert_exporter": "python",
   "pygments_lexer": "ipython3",
   "version": "3.9.7"
  }
 },
 "nbformat": 4,
 "nbformat_minor": 5
}
