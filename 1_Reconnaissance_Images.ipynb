{
 "cells": [
  {
   "cell_type": "markdown",
   "id": "9224e35d",
   "metadata": {},
   "source": [
    "Exemples tuto:\n",
    "\n",
    "* https://projects.raspberrypi.org/en/projects/image-id-coral/2\n",
    "\n",
    "\n",
    "# Reconnaissance d'images\n",
    "\n",
    "Allez sur la page du [projet d'image](https://teachablemachine.withgoogle.com/train) Teachable Machine et suivez les instructions pour créer vos classes d'images, ajouter des images pour chaque classe (vous pouvez utiliser la webcam) et entraîner votre modèle. \n",
    "\n",
    "<img src=\"1_images/TM_train.jpg\" width=\"900\"/> \n",
    "\n",
    "\n",
    "Vous pouvez sélectionner le français en bas à gauche.\n",
    "\n",
    "Cliquez sur \"Projet d'image\", puis sur \"Modèle d'image standard\".\n",
    "\n",
    "<img src=\"1_images/TM_image.jpg\" width=\"900\"/> \n",
    "\n",
    "\n",
    "## Entrainer le modèle\n",
    "\n",
    "\n",
    "### Choix des classes\n",
    "\n",
    "Le système de reconnaissance d'image aura pour but de retrouver les échantillons laissés par persévérance. On distingue donc deux classes: Soit l'image perçue par la caméra contient un échantillon (un tube contenant des poussières de sol martien), soit elle n'en contient pas. Nous appellerons la première classe \"Echantillon présent\", et la seconde classe \"Echantillon non présent\".\n",
    "\n",
    "\n",
    "<img src=\"1_images/TM_classes.jpg\" width=\"900\"/> \n",
    "\n",
    "Cliquez ensuite sur la Webcam de la classe \"Echantillon présent\", puis prenez des photos où un échantillon est présent. Si le navigateur Web vous demande l'autorisation d'utiliser la caméra, autorisez-le.\n",
    "\n",
    "Pour cette activité, l'échantillon peut être un crayon, une pièce de légo, ou un pierre par exemple. Prenez une vingtaine de photos. \n",
    "\n",
    "Cliquez ensuite sur la Webcam de la classe \"Echantillon non présent\", puis prenez autant de photos dans lesquels aucun n'échantillon n'est présent.\n",
    "\n",
    "L'entraînenment dépend du nombre d'images que vous avez prises. Pour une vingtaine d'images par classe, cela prend environ 2 minutes. Veillez à ne pas changer d'onglet pendant l'apprentissage (un message apparaît normalement pour vous en informer) !.  \n",
    "\n",
    "## Tester le modèle\n",
    "\n",
    "Vous pouvez ensuite tester votre modèle de prédiction à la droite de l'écran. Si vous pensez qu'il fonctionne suffisamment bien, vous pouvez l'exporter. Sinon, prenez plus d'exemple de photos pour chacune des deux classes.\n",
    "\n",
    "## Exporter le modèle\n",
    "\n",
    "\n",
    "### Adacraft\n",
    "\n",
    "Cliquez sur 'Exporter le modèle'. Dans l'onglet 'Tensorflow.js', cliquez sur 'Importer le modèle'. Cela prend environ deux minutes. Un lien vers le moèdle apparaitra. Copier le, et coller le dans le bloc Modèle d'Adacraft.\n",
    "\n",
    "### Python\n",
    "\n",
    "Cliquez sur 'Exporter le modèle'. Dans l'onglet 'Tensorflow Lite', sélectionner 'Virgule flottante', puis 'Télécharger mon modèle'.\n",
    "\n",
    "Si vous avez un Coral, sans l'onglet 'Tensorflow Lite', sélectionner 'EdgeTPU', puis 'Télécharger mon modèle'.\n",
    "\n"
   ]
  },
  {
   "cell_type": "code",
   "execution_count": null,
   "id": "a21feff9",
   "metadata": {},
   "outputs": [],
   "source": []
  }
 ],
 "metadata": {
  "kernelspec": {
   "display_name": "Python 3 (ipykernel)",
   "language": "python",
   "name": "python3"
  },
  "language_info": {
   "codemirror_mode": {
    "name": "ipython",
    "version": 3
   },
   "file_extension": ".py",
   "mimetype": "text/x-python",
   "name": "python",
   "nbconvert_exporter": "python",
   "pygments_lexer": "ipython3",
   "version": "3.9.7"
  }
 },
 "nbformat": 4,
 "nbformat_minor": 5
}
