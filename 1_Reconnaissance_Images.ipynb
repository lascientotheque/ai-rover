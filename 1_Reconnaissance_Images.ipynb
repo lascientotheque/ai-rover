{
 "cells": [
  {
   "cell_type": "markdown",
   "id": "9224e35d",
   "metadata": {},
   "source": [
    "# Reconnaissance d'images\n",
    "\n",
    "* https://teachablemachine.withgoogle.com/train\n",
    "* Projet Images\n",
    "* Modèle d'image standard\n",
    "\n",
    "## Entrainer le modèle\n",
    "\n",
    "Entrainer le modèle avec deux classes: Droite et Gauche. Vous pouvez par exemple utiliser votre index pointant vers la droite pour le signe correspondant à classe 'Droite', et votre index pointant à gauche pour le signe correspondant à la classe 'Gauche'.\n",
    "\n",
    "L'entraînenment dépend du nombre d'images que vous avez prises. Pour une cinquantaine d'images par classe, cela prend environ 2 minutes. Veillez à ne pas changer d'onglet pendant l'apprentissage (un message apparaît normalement pour vous en informer) !.  \n",
    "\n",
    "## Tester le modèle\n",
    "\n",
    "Vous pouvez ensuite tester comment fonctionne votre modèle.\n",
    "\n",
    "## Export le modèle\n",
    "\n",
    "Finalement, exporter votre modèle. https://teachablemachine.withgoogle.com/models/[...]\n",
    "\n",
    "Dans l'onglet 'TensorFlow.Js', sélectionner 'Importer (lien partageable)' (sélectionné par défaut), puis coliquer sur 'Importer'. Cela lancera la sauvegarde du modèle (le bouton devient 'Importation'), qui prend environ 15 secondes. Le lien vers votre modèle apparaît ensuite. Copier-le.\n"
   ]
  }
 ],
 "metadata": {
  "kernelspec": {
   "display_name": "Python 3 (ipykernel)",
   "language": "python",
   "name": "python3"
  },
  "language_info": {
   "codemirror_mode": {
    "name": "ipython",
    "version": 3
   },
   "file_extension": ".py",
   "mimetype": "text/x-python",
   "name": "python",
   "nbconvert_exporter": "python",
   "pygments_lexer": "ipython3",
   "version": "3.9.7"
  }
 },
 "nbformat": 4,
 "nbformat_minor": 5
}
