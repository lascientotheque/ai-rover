{
 "cells": [
  {
   "cell_type": "markdown",
   "id": "100dd641",
   "metadata": {},
   "source": [
    "# Setup et tests préliminaires\n",
    "\n",
    "\n",
    "## OpenCV\n",
    "\n",
    "```\n",
    "sudo pip install opencv-contrib-python\n",
    "```\n",
    "\n",
    "-> opencv-contrib-python-4.5.4.60\n"
   ]
  },
  {
   "cell_type": "code",
   "execution_count": null,
   "id": "4490e912",
   "metadata": {},
   "outputs": [],
   "source": []
  },
  {
   "cell_type": "markdown",
   "id": "20fd7a00",
   "metadata": {},
   "source": [
    "## PiCamera\n",
    "\n",
    "```\n",
    "raspistill -o output.jpg\n",
    "```\n"
   ]
  },
  {
   "cell_type": "code",
   "execution_count": null,
   "id": "8426222a",
   "metadata": {},
   "outputs": [],
   "source": []
  },
  {
   "cell_type": "code",
   "execution_count": null,
   "id": "25c9e842",
   "metadata": {},
   "outputs": [],
   "source": []
  }
 ],
 "metadata": {
  "kernelspec": {
   "display_name": "Python 3 (ipykernel)",
   "language": "python",
   "name": "python3"
  },
  "language_info": {
   "codemirror_mode": {
    "name": "ipython",
    "version": 3
   },
   "file_extension": ".py",
   "mimetype": "text/x-python",
   "name": "python",
   "nbconvert_exporter": "python",
   "pygments_lexer": "ipython3",
   "version": "3.9.7"
  }
 },
 "nbformat": 4,
 "nbformat_minor": 5
}
