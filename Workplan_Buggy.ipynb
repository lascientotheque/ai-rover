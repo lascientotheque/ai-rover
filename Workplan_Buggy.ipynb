{
 "cells": [
  {
   "cell_type": "markdown",
   "id": "7f9231fe",
   "metadata": {},
   "source": [
    "## Python \n",
    "\n",
    "1. Contrôle des moteurs\n",
    "2. Test de la caméra\n",
    "3. Créer un modèle de classification d'images\n",
    "4. Exporter le modèle pour Raspberry\n",
    "5. Ajout du code pour classer les images de la caméra\n",
    "6. Contrôler le moteur avec la reconnaissance d'images\n",
    "7. Coral\n",
    "\n",
    "## Scratch\n",
    "\n",
    "1. Installer Websocket serveur sur RPi\n",
    "2. Tester Websocket avec Scratch\n",
    "3. Tester contrôle des moteurs avec Websocket\n",
    "4. Test modèle ML sur Sratch\n",
    "5. Lier classifier d'image et contrôle moteur sous Scratch\n",
    "\n",
    "## Regarder https://helloworld.co.in/\n",
    "\n",
    "### Installer server de commande sur RPi\n",
    "\n",
    "* Contrôle depuis téléphone: https://helloworld.co.in/article/camera-robot-using-raspberry-pi-web-controlled-surveillance-robot\n",
    "\n",
    "\n",
    "## Set up buggy\n",
    "\n",
    "* Try build rover AdaFruit\n",
    "\n",
    "## Create repo github\n",
    "\n",
    "* Readme. Diagram with different tutorials. Emphasize logigram, block, Python\n",
    "* Config repo. Scripts for configuring RPi, and launching servers\n",
    "* Adacraft repo\n",
    "* Python repo\n",
    "* Rover repo\n"
   ]
  }
 ],
 "metadata": {
  "kernelspec": {
   "display_name": "Python 3 (ipykernel)",
   "language": "python",
   "name": "python3"
  },
  "language_info": {
   "codemirror_mode": {
    "name": "ipython",
    "version": 3
   },
   "file_extension": ".py",
   "mimetype": "text/x-python",
   "name": "python",
   "nbconvert_exporter": "python",
   "pygments_lexer": "ipython3",
   "version": "3.9.7"
  }
 },
 "nbformat": 4,
 "nbformat_minor": 5
}
