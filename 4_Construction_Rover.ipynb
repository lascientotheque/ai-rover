{
 "cells": [
  {
   "cell_type": "markdown",
   "metadata": {},
   "source": [
    "# Rover\n",
    "\n",
    "From Raspberry project\n",
    "\n",
    "* https://projects.raspberrypi.org/en/projects/build-a-buggy/0\n",
    "\n",
    "\n",
    "Or from JetBot\n",
    "\n",
    "* https://github.com/NVIDIA-AI-IOT/jetbot/wiki/hardware-setup\n",
    "* https://github.com/NVIDIA-AI-IOT/jetbot/wiki/bill-of-materials\n",
    "* Jetbot parts pack: https://www.adafruit.com/product/4225 - 35 dollars\n",
    "\n",
    "Earth Rover:\n",
    "\n",
    "* https://github.com/jiteshsaini/coral_USB_ml_accelerator\n",
    "* https://helloworld.co.in/\n",
    "* https://helloworld.co.in/article/basic-robotics-make-robot-raspberry-pi-web-controls\n",
    "\n",
    "Watney:\n",
    "\n",
    "* https://github.com/nikivanov/watney\n",
    "\n",
    "\n",
    "## Bill of material\n",
    "\n",
    "\n",
    "Composant | Lien | Prix\n",
    " :--- | :--- | :--- \n",
    "1 * Raspberry Pi 3 ou 4 |  | \n",
    "1 * Raspberry Pi Camera |  | \n",
    "1 * Breakout L298 - Double pont H |https://shop.mchobby.be/fr/cartes-breakout/75-breakout-l298-double-pont-h--3232100000759.html  | 10,25 euros\n",
    "1 * Fils pour breadboard | https://shop.mchobby.be/fr/fils-et-fils-prototypage/82-fils-pour-breadboard-assortiment-extra-3232100000827.html | 9,75 euros\n",
    "2 * Moteur TT | https://shop.mchobby.be/fr/moteurs-continu/1761-moteur-tt-bi-metal-901-3232100017610.html | 2 * 5,45 euros\n",
    "1 * Paire de roues | https://shop.mchobby.be/fr/prototypage-robotique-roue/433-roues-32x7-blanc-3232100004337-pololu.html | 5,82 euros\n",
    "1 * Bloc alimentation piles AA| https://shop.mchobby.be/fr/bloc-piles/556-bloc-d-alimentation-4-piles-aa-total-6v-3232100005563.html | 4,44 euros\n",
    "1 * Boule de 1 pouce de diamètre | https://shop.mchobby.be/fr/prototypage-robotique-roue/1529-boule-supplementaire-pour-robot-romi-noir-3232100015296-pololu.html | 3,63 euros\n",
    "\n",
    "\n",
    "\n",
    "\n",
    "\n",
    "Voir aussi\n",
    "\n",
    "* https://my.aliexpress.com/wishlist/shared.htm?groupId=100000000943756&shortkey=i6BnQZNJ&addresstype=600 de https://projects.raspberrypi.org/en/projects/build-a-buggy/0\n",
    "\n",
    "### Chassis\n",
    "\n",
    "* Carton: https://projects.raspberrypi.org/en/projects/build-a-buggy/3\n",
    "* Imprimante 3D: https://github.com/NVIDIA-AI-IOT/jetbot/wiki/3D-printing\n",
    "\n",
    "### Adafruit Buggy\n",
    "\n",
    "* https://www.adafruit.com/product/3796\n",
    "\n",
    "Composant | Lien | Prix\n",
    " :--- | :--- | :--- \n",
    "1 * Chassis Rover | https://www.adafruit.com/product/3796 | 14,95 dollars\n",
    "2 * Moteurs TT | https://www.adafruit.com/product/3777 | 2 * 2,95 dollars\n",
    "2 * Roues moteurs TT | https://www.adafruit.com/product/3757 | 2 * 2,50 dollars\n",
    "1 * Bille mobile | https://www.adafruit.com/product/3948 | 1 * 1,95 dollars\n",
    "1 * Batterie | https://www.adafruit.com/product/4288| 18,95 dollars\n",
    "1 * Raspberry Pi Motor Hat | https://www.adafruit.com/product/2348 | 22,50 dollars\n",
    "\n",
    "1 * USB cables | | \n",
    "1 * Raspberry Pi v2 camera || \n",
    "\n",
    "\n",
    "* Monter le Motor Hat: https://learn.adafruit.com/adafruit-dc-and-stepper-motor-hat-for-raspberry-pi\n",
    "\n",
    "## Camera mount\n",
    "\n",
    "* https://cults3d.com/en/tags/raspberry_pi_camera\n",
    "* Also jetbot\n"
   ]
  },
  {
   "cell_type": "markdown",
   "metadata": {},
   "source": [
    "## Control\n",
    "\n",
    "* Adacraft\n",
    "\n",
    "Login: yannael@gmail.com/crayon99\n",
    "\n",
    "\n",
    "\n",
    "## Connect Jetbot to Raspberry:\n",
    "\n",
    "* Rouge: 3.3 - 1, jaune: GND - 6, Bleu: SDA - 3, Vert: SCL - 5, \n",
    "* Voir GPIO RP4 ici https://maker.pro/raspberry-pi/tutorial/raspberry-pi-4-gpio-pinout\n",
    "\n",
    "Connecting I2C\n",
    "\n",
    "* https://learn.adafruit.com/adafruits-raspberry-pi-lesson-4-gpio-setup/configuring-i2c\n",
    "\n",
    "```\n",
    "i2cdetect -y 0\n",
    "\n",
    "pip3 install adafruit-circuitpython-motorkit\n",
    "\n",
    "```\n",
    "\n",
    "* https://circuitpython.readthedocs.io/projects/motorkit/en/latest/api.html"
   ]
  },
  {
   "cell_type": "code",
   "execution_count": 1,
   "metadata": {},
   "outputs": [
    {
     "data": {
      "text/plain": [
       "2"
      ]
     },
     "execution_count": 1,
     "metadata": {},
     "output_type": "execute_result"
    }
   ],
   "source": [
    "1+1\n"
   ]
  },
  {
   "cell_type": "code",
   "execution_count": null,
   "metadata": {},
   "outputs": [],
   "source": []
  }
 ],
 "metadata": {
  "kernelspec": {
   "display_name": "Python 3 (ipykernel)",
   "language": "python",
   "name": "python3"
  },
  "language_info": {
   "codemirror_mode": {
    "name": "ipython",
    "version": 3
   },
   "file_extension": ".py",
   "mimetype": "text/x-python",
   "name": "python",
   "nbconvert_exporter": "python",
   "pygments_lexer": "ipython3",
   "version": "3.9.7"
  }
 },
 "nbformat": 4,
 "nbformat_minor": 4
}
