{
 "cells": [
  {
   "cell_type": "markdown",
   "id": "dc495c15",
   "metadata": {},
   "source": [
    "# Contrôle d'un rover avec Python\n"
   ]
  },
  {
   "cell_type": "markdown",
   "id": "f5c345fb",
   "metadata": {},
   "source": [
    "## Contrôle des moteurs\n",
    "\n",
    "\n",
    "\n"
   ]
  },
  {
   "cell_type": "code",
   "execution_count": 7,
   "id": "75203be2",
   "metadata": {},
   "outputs": [],
   "source": [
    "#from gpiozero import Motor\n",
    "import gpiozero\n",
    "import time"
   ]
  },
  {
   "cell_type": "code",
   "execution_count": 3,
   "id": "d701d740",
   "metadata": {},
   "outputs": [],
   "source": [
    "left_motor = gpiozero.Motor(7, 8)\n",
    "right_motor = gpiozero.Motor(9, 10)"
   ]
  },
  {
   "cell_type": "code",
   "execution_count": 5,
   "id": "58a709f5",
   "metadata": {},
   "outputs": [],
   "source": [
    "left_motor.forward(0.5)\n",
    "left_motor.stop()"
   ]
  },
  {
   "cell_type": "code",
   "execution_count": 10,
   "id": "86abfd6e",
   "metadata": {},
   "outputs": [],
   "source": [
    "left_motor.backward(0.5)\n",
    "time.sleep(1)\n",
    "left_motor.stop()"
   ]
  },
  {
   "cell_type": "code",
   "execution_count": null,
   "id": "05d26114",
   "metadata": {},
   "outputs": [],
   "source": []
  },
  {
   "cell_type": "code",
   "execution_count": null,
   "id": "95166efc",
   "metadata": {},
   "outputs": [],
   "source": []
  }
 ],
 "metadata": {
  "kernelspec": {
   "display_name": "Python 3 (ipykernel)",
   "language": "python",
   "name": "python3"
  },
  "language_info": {
   "codemirror_mode": {
    "name": "ipython",
    "version": 3
   },
   "file_extension": ".py",
   "mimetype": "text/x-python",
   "name": "python",
   "nbconvert_exporter": "python",
   "pygments_lexer": "ipython3",
   "version": "3.7.3"
  }
 },
 "nbformat": 4,
 "nbformat_minor": 5
}
