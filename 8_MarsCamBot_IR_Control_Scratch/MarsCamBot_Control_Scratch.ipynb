{
 "cells": [
  {
   "cell_type": "markdown",
   "id": "f675b064",
   "metadata": {},
   "source": [
    "# Cloud Connect\n",
    "\n",
    "* Project is Buggy"
   ]
  },
  {
   "cell_type": "markdown",
   "id": "ef35b7a8",
   "metadata": {},
   "source": [
    "## Serveur WebSocket sur RPi\n",
    "\n",
    "* Cloudlink: https://github.com/MikeDev101/cloudlink\n",
    "\n",
    "```\n",
    "pip install cloudlink\n",
    "```\n",
    "\n",
    "Le serveur est à : https://github.com/MikeDev101/cloudlink/blob/master/server_example.py\n",
    "\n",
    "Testé avec la version 0.1.7.4 de cloudlink\n",
    "\n",
    "\n",
    "\n"
   ]
  },
  {
   "cell_type": "code",
   "execution_count": null,
   "id": "8b152eb3",
   "metadata": {},
   "outputs": [],
   "source": []
  }
 ],
 "metadata": {
  "kernelspec": {
   "display_name": "Python 3 (ipykernel)",
   "language": "python",
   "name": "python3"
  },
  "language_info": {
   "codemirror_mode": {
    "name": "ipython",
    "version": 3
   },
   "file_extension": ".py",
   "mimetype": "text/x-python",
   "name": "python",
   "nbconvert_exporter": "python",
   "pygments_lexer": "ipython3",
   "version": "3.9.7"
  }
 },
 "nbformat": 4,
 "nbformat_minor": 5
}
