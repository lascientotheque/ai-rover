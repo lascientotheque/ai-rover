{
 "cells": [
  {
   "cell_type": "markdown",
   "id": "190d1c10",
   "metadata": {},
   "source": [
    "# Contrôle du rover avec Scratch\n",
    "\n",
    "## Créer un compte sur Adacraft\n",
    "\n",
    "Adacraft est une version modifiée de Scratch qui inclue la possibilité d'utiliser de la reconnaissance d'images, et d'envoyer des instruction au rover.\n",
    "\n",
    "La première étape consiste à se créer un compte sur Adacraft. Pour ceci, rendez-vous sur https://www.adacraft.org/ puis créer-vous un compte en cliquant sur 'Sign-up'. \n",
    "\n",
    "## Charger le programme de contrôle\n",
    "\n",
    "Ouvrir l'interface de programmation en cliquant sur 'Start Creating'. \n",
    "\n",
    "\n",
    "\n",
    "https://teachablemachine.withgoogle.com/models/v2L5ht9qJ/\n",
    "\n",
    "\n",
    "* Autoriser Adacraft à accéder à la caméra\n",
    "* Ajouter le vidéo sensing\n",
    "* Lancer les programmes Serveur_CloudLink puis Rover_RPi_CloudConnect, puis connecter le Web socket depuis Adacraft.\n",
    "* Lancer une première détection d'images pour initialiser la détection\n",
    "* Lancer le programme\n",
    "\n"
   ]
  }
 ],
 "metadata": {
  "kernelspec": {
   "display_name": "Python 3 (ipykernel)",
   "language": "python",
   "name": "python3"
  },
  "language_info": {
   "codemirror_mode": {
    "name": "ipython",
    "version": 3
   },
   "file_extension": ".py",
   "mimetype": "text/x-python",
   "name": "python",
   "nbconvert_exporter": "python",
   "pygments_lexer": "ipython3",
   "version": "3.9.7"
  }
 },
 "nbformat": 4,
 "nbformat_minor": 5
}
