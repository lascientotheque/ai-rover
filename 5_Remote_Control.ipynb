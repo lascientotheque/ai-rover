{
 "cells": [
  {
   "cell_type": "markdown",
   "id": "0de87963",
   "metadata": {},
   "source": [
    "# Télécommande\n",
    "\n",
    "Inspiration:\n",
    "\n",
    "Check: https://helloworld.co.in/article/camera-robot-using-raspberry-pi-web-controlled-surveillance-robot\n",
    "\n",
    "* https://helloworld.co.in/article/online-remote-controlling-raspberry-pi-gpio-and-camera-remotely-iot-project\n",
    "* https://github.com/jiteshsaini/internet-of-things\n",
    "\n",
    "## Plan\n",
    "\n",
    "* Serveur WebSocket sur RPi\n",
    "* Tester site Web HTML avec WebSocket\n",
    "* Tester sinon site web Python\n",
    "\n",
    "## Serveur WebSocket sur RPi\n",
    "\n",
    "* Cloudlink: https://github.com/MikeDev101/cloudlink\n",
    "\n",
    "```\n",
    "pip install cloudlink\n",
    "```\n",
    "\n",
    "Le serveur est à : https://github.com/MikeDev101/cloudlink/blob/master/server_example.py\n",
    "\n",
    "Testé avec la version 0.1.7.4 de cloudlink\n",
    "\n",
    "\n",
    "Serveur (0.1.5.2):\n",
    "\n",
    "```\n",
    "\n",
    "#!/usr/bin/env python3\n",
    "\n",
    "# CloudLink 3.0 - Server Mode Example Code\n",
    "\n",
    "from cloudlink import CloudLink\n",
    "import time\n",
    "\n",
    "if __name__ == \"__main__\":\n",
    "    cl = CloudLink() # Instanciate the module\n",
    "    try:\n",
    "        cl.host(3000) # Start the module in server mode, host on port 3000\n",
    "        cl.setMOTD(\"Hello, World!\") # Set our Message-of-the-day\n",
    "\n",
    "        while cl.mode == 1: # Some other spaghetti code to keep the script running while the connection is live\n",
    "            time.sleep(0.1)\n",
    "\n",
    "    except KeyboardInterrupt:\n",
    "        cl.stop() # Stops the server and exits\n",
    "        \n",
    "        \n",
    "```\n",
    "\n",
    "\n"
   ]
  },
  {
   "cell_type": "code",
   "execution_count": null,
   "id": "ee895914",
   "metadata": {},
   "outputs": [],
   "source": []
  }
 ],
 "metadata": {
  "kernelspec": {
   "display_name": "Python 3 (ipykernel)",
   "language": "python",
   "name": "python3"
  },
  "language_info": {
   "codemirror_mode": {
    "name": "ipython",
    "version": 3
   },
   "file_extension": ".py",
   "mimetype": "text/x-python",
   "name": "python",
   "nbconvert_exporter": "python",
   "pygments_lexer": "ipython3",
   "version": "3.9.7"
  }
 },
 "nbformat": 4,
 "nbformat_minor": 5
}
