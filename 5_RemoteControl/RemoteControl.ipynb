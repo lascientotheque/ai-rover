{
 "cells": [
  {
   "cell_type": "markdown",
   "id": "0de87963",
   "metadata": {},
   "source": [
    "# Télécommande sur page Web\n",
    "\n"
   ]
  },
  {
   "cell_type": "code",
   "execution_count": 1,
   "id": "ee895914",
   "metadata": {},
   "outputs": [],
   "source": [
    "import time\n",
    "\n",
    "import cv2\n",
    "\n",
    "#from gpiozero import Motor\n",
    "import gpiozero\n",
    "\n",
    "#from flask import Flask, Response, render_template\n",
    "import flask  \n"
   ]
  },
  {
   "cell_type": "code",
   "execution_count": 2,
   "id": "ae8cbd22",
   "metadata": {},
   "outputs": [],
   "source": [
    "left_motor = gpiozero.Motor(7, 8)\n",
    "right_motor = gpiozero.Motor(9, 10)"
   ]
  },
  {
   "cell_type": "code",
   "execution_count": 3,
   "id": "9111d4d3",
   "metadata": {},
   "outputs": [],
   "source": [
    "def display_video():\n",
    "    \n",
    "    camera_object = cv2.VideoCapture(0)\n",
    "    \n",
    "    while True:\n",
    "    \n",
    "        ret, picture = camera_object.read()\n",
    "        picture_rgb = cv2.cvtColor(picture, cv2.COLOR_BGR2RGB)\n",
    "    \n",
    "        ret, jpeg = cv2.imencode('.jpg', picture_rgb)\n",
    "        pic = jpeg.tobytes()\n",
    "        \n",
    "        #Flask streaming\n",
    "        yield (b'--frame\\r\\n'\n",
    "               b'Content-Type: image/jpeg\\r\\n\\r\\n' + pic + b'\\r\\n\\r\\n')"
   ]
  },
  {
   "cell_type": "code",
   "execution_count": 4,
   "id": "8dd16a61",
   "metadata": {},
   "outputs": [],
   "source": [
    "app = flask.Flask(\"Remote control\")"
   ]
  },
  {
   "cell_type": "code",
   "execution_count": 5,
   "id": "6d962e7c",
   "metadata": {},
   "outputs": [],
   "source": [
    "@app.route('/')\n",
    "def index():\n",
    "    return flask.render_template(\"index.html\")\n",
    "\n",
    "@app.route('/video_feed')\n",
    "def video_feed():\n",
    "    return flask.Response(display_video(),\n",
    "                    mimetype='multipart/x-mixed-replace; boundary=frame')\n",
    "\n",
    "@app.route('/forward')\n",
    "def forward():\n",
    "    left_motor.forward(0.2)\n",
    "    right_motor.forward(0.2)\n",
    "    return \"\"\n",
    "    \n",
    "@app.route('/backward')\n",
    "def backward():\n",
    "    left_motor.backward(0.2)\n",
    "    right_motor.backward(0.2)\n",
    "    return \"\"\n",
    "    \n",
    "@app.route('/left')\n",
    "def left():\n",
    "    right_motor.forward(0.2)\n",
    "    left_motor.stop()\n",
    "    return \"\"\n",
    "    \n",
    "@app.route('/right')\n",
    "def right():\n",
    "    left_motor.forward(0.2)\n",
    "    right_motor.stop()\n",
    "    return \"\"\n",
    "    \n",
    "@app.route('/stop')\n",
    "def stop():\n",
    "    left_motor.stop()\n",
    "    right_motor.stop()\n",
    "    return \"\"\n"
   ]
  },
  {
   "cell_type": "code",
   "execution_count": 6,
   "id": "1829564a",
   "metadata": {},
   "outputs": [
    {
     "name": "stdout",
     "output_type": "stream",
     "text": [
      " * Serving Flask app \"Remote control\" (lazy loading)\n",
      " * Environment: production\n",
      "   WARNING: Do not use the development server in a production environment.\n",
      "   Use a production WSGI server instead.\n",
      " * Debug mode: on\n"
     ]
    },
    {
     "name": "stderr",
     "output_type": "stream",
     "text": [
      " * Running on http://0.0.0.0:2204/ (Press CTRL+C to quit)\n",
      " * Restarting with stat\n",
      "Traceback (most recent call last):\n",
      "  File \"/home/pi/.local/lib/python3.7/site-packages/ipykernel_launcher.py\", line 16, in <module>\n",
      "    app.launch_new_instance()\n",
      "  File \"/home/pi/.local/lib/python3.7/site-packages/traitlets/config/application.py\", line 845, in launch_instance\n",
      "    app.initialize(argv)\n",
      "  File \"/home/pi/.local/lib/python3.7/site-packages/traitlets/config/application.py\", line 88, in inner\n",
      "    return method(app, *args, **kwargs)\n",
      "  File \"/home/pi/.local/lib/python3.7/site-packages/ipykernel/kernelapp.py\", line 632, in initialize\n",
      "    self.init_sockets()\n",
      "  File \"/home/pi/.local/lib/python3.7/site-packages/ipykernel/kernelapp.py\", line 282, in init_sockets\n",
      "    self.shell_port = self._bind_socket(self.shell_socket, self.shell_port)\n",
      "  File \"/home/pi/.local/lib/python3.7/site-packages/ipykernel/kernelapp.py\", line 229, in _bind_socket\n",
      "    return self._try_bind_socket(s, port)\n",
      "  File \"/home/pi/.local/lib/python3.7/site-packages/ipykernel/kernelapp.py\", line 205, in _try_bind_socket\n",
      "    s.bind(\"tcp://%s:%i\" % (self.ip, port))\n",
      "  File \"/home/pi/.local/lib/python3.7/site-packages/zmq/sugar/socket.py\", line 214, in bind\n",
      "    super().bind(addr)\n",
      "  File \"zmq/backend/cython/socket.pyx\", line 540, in zmq.backend.cython.socket.Socket.bind\n",
      "  File \"zmq/backend/cython/checkrc.pxd\", line 28, in zmq.backend.cython.checkrc._check_rc\n",
      "zmq.error.ZMQError: Address already in use\n"
     ]
    },
    {
     "ename": "SystemExit",
     "evalue": "1",
     "output_type": "error",
     "traceback": [
      "An exception has occurred, use %tb to see the full traceback.\n",
      "\u001b[0;31mSystemExit\u001b[0m\u001b[0;31m:\u001b[0m 1\n"
     ]
    },
    {
     "name": "stderr",
     "output_type": "stream",
     "text": [
      "/home/pi/.local/lib/python3.7/site-packages/IPython/core/interactiveshell.py:3452: UserWarning: To exit: use 'exit', 'quit', or Ctrl-D.\n",
      "  warn(\"To exit: use 'exit', 'quit', or Ctrl-D.\", stacklevel=1)\n"
     ]
    }
   ],
   "source": [
    "app.run(host='0.0.0.0', port=2204, threaded=True, debug=True)"
   ]
  },
  {
   "cell_type": "code",
   "execution_count": null,
   "id": "f7aa0cb0",
   "metadata": {},
   "outputs": [],
   "source": []
  },
  {
   "cell_type": "code",
   "execution_count": null,
   "id": "8521e3f9",
   "metadata": {},
   "outputs": [],
   "source": []
  }
 ],
 "metadata": {
  "kernelspec": {
   "display_name": "Python 3 (ipykernel)",
   "language": "python",
   "name": "python3"
  },
  "language_info": {
   "codemirror_mode": {
    "name": "ipython",
    "version": 3
   },
   "file_extension": ".py",
   "mimetype": "text/x-python",
   "name": "python",
   "nbconvert_exporter": "python",
   "pygments_lexer": "ipython3",
   "version": "3.9.7"
  }
 },
 "nbformat": 4,
 "nbformat_minor": 5
}
