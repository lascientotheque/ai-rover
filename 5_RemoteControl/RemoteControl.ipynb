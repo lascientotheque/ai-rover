{
 "cells": [
  {
   "cell_type": "markdown",
   "id": "0de87963",
   "metadata": {},
   "source": [
    "# Télécommande sur page Web\n",
    "\n"
   ]
  },
  {
   "cell_type": "code",
   "execution_count": 1,
   "id": "ee895914",
   "metadata": {},
   "outputs": [],
   "source": [
    "import time\n",
    "\n",
    "import cv2\n",
    "\n",
    "#from gpiozero import Motor\n",
    "import gpiozero\n",
    "\n",
    "#from flask import Flask, Response, render_template\n",
    "import flask  \n"
   ]
  },
  {
   "cell_type": "code",
   "execution_count": 2,
   "id": "ae8cbd22",
   "metadata": {},
   "outputs": [],
   "source": [
    "left_motor = gpiozero.Motor(7, 8)\n",
    "right_motor = gpiozero.Motor(9, 10)\n",
    "\n",
    "motor_speed = 0.5"
   ]
  },
  {
   "cell_type": "code",
   "execution_count": 3,
   "id": "9111d4d3",
   "metadata": {},
   "outputs": [],
   "source": [
    "def display_video():\n",
    "    \n",
    "    camera_object = cv2.VideoCapture(0)\n",
    "    \n",
    "    while True:\n",
    "    \n",
    "        ret, picture = camera_object.read()\n",
    "        picture_rgb = cv2.cvtColor(picture, cv2.COLOR_BGR2RGB)\n",
    "    \n",
    "        ret, jpeg = cv2.imencode('.jpg', picture_rgb)\n",
    "        pic = jpeg.tobytes()\n",
    "        \n",
    "        #Flask streaming\n",
    "        yield (b'--frame\\r\\n'\n",
    "               b'Content-Type: image/jpeg\\r\\n\\r\\n' + pic + b'\\r\\n\\r\\n')"
   ]
  },
  {
   "cell_type": "code",
   "execution_count": 4,
   "id": "8dd16a61",
   "metadata": {},
   "outputs": [],
   "source": [
    "app = flask.Flask(\"Remote control\")"
   ]
  },
  {
   "cell_type": "code",
   "execution_count": 5,
   "id": "6d962e7c",
   "metadata": {},
   "outputs": [],
   "source": [
    "@app.route('/')\n",
    "def index():\n",
    "    return flask.render_template(\"index.html\")\n",
    "\n",
    "@app.route('/video_feed')\n",
    "def video_feed():\n",
    "    return flask.Response(display_video(),\n",
    "                    mimetype='multipart/x-mixed-replace; boundary=frame')\n",
    "\n",
    "@app.route('/forward')\n",
    "def forward():\n",
    "    left_motor.forward(motor_speed)\n",
    "    right_motor.forward(motor_speed)\n",
    "    return \"\"\n",
    "    \n",
    "@app.route('/backward')\n",
    "def backward():\n",
    "    left_motor.backward(motor_speed)\n",
    "    right_motor.backward(motor_speed)\n",
    "    return \"\"\n",
    "    \n",
    "@app.route('/left')\n",
    "def left():\n",
    "    right_motor.forward(motor_speed)\n",
    "    left_motor.stop()\n",
    "    return \"\"\n",
    "    \n",
    "@app.route('/right')\n",
    "def right():\n",
    "    left_motor.forward(motor_speed)\n",
    "    right_motor.stop()\n",
    "    return \"\"\n",
    "    \n",
    "@app.route('/stop')\n",
    "def stop():\n",
    "    left_motor.stop()\n",
    "    right_motor.stop()\n",
    "    return \"\"\n"
   ]
  },
  {
   "cell_type": "code",
   "execution_count": 6,
   "id": "1829564a",
   "metadata": {},
   "outputs": [
    {
     "name": "stdout",
     "output_type": "stream",
     "text": [
      " * Serving Flask app \"Remote control\" (lazy loading)\n",
      " * Environment: production\n",
      "   WARNING: Do not use the development server in a production environment.\n",
      "   Use a production WSGI server instead.\n",
      " * Debug mode: off\n"
     ]
    },
    {
     "name": "stderr",
     "output_type": "stream",
     "text": [
      " * Running on http://0.0.0.0:2204/ (Press CTRL+C to quit)\n",
      "127.0.0.1 - - [12/Feb/2022 13:26:32] \"\u001b[37mGET / HTTP/1.1\u001b[0m\" 200 -\n",
      "127.0.0.1 - - [12/Feb/2022 13:26:32] \"\u001b[37mGET /video_feed HTTP/1.1\u001b[0m\" 200 -\n",
      "127.0.0.1 - - [12/Feb/2022 13:26:36] \"\u001b[37mGET /backward HTTP/1.1\u001b[0m\" 200 -\n",
      "127.0.0.1 - - [12/Feb/2022 13:26:37] \"\u001b[37mGET /stop HTTP/1.1\u001b[0m\" 200 -\n",
      "127.0.0.1 - - [12/Feb/2022 13:26:40] \"\u001b[37mGET /forward HTTP/1.1\u001b[0m\" 200 -\n",
      "127.0.0.1 - - [12/Feb/2022 13:26:41] \"\u001b[37mGET /stop HTTP/1.1\u001b[0m\" 200 -\n",
      "127.0.0.1 - - [12/Feb/2022 13:26:44] \"\u001b[37mGET /left HTTP/1.1\u001b[0m\" 200 -\n",
      "127.0.0.1 - - [12/Feb/2022 13:26:45] \"\u001b[37mGET /stop HTTP/1.1\u001b[0m\" 200 -\n"
     ]
    }
   ],
   "source": [
    "app.run(host='0.0.0.0', port=2204, threaded=True, debug=False)"
   ]
  },
  {
   "cell_type": "code",
   "execution_count": null,
   "id": "8521e3f9",
   "metadata": {},
   "outputs": [],
   "source": []
  }
 ],
 "metadata": {
  "kernelspec": {
   "display_name": "Python 3 (ipykernel)",
   "language": "python",
   "name": "python3"
  },
  "language_info": {
   "codemirror_mode": {
    "name": "ipython",
    "version": 3
   },
   "file_extension": ".py",
   "mimetype": "text/x-python",
   "name": "python",
   "nbconvert_exporter": "python",
   "pygments_lexer": "ipython3",
   "version": "3.7.3"
  }
 },
 "nbformat": 4,
 "nbformat_minor": 5
}
