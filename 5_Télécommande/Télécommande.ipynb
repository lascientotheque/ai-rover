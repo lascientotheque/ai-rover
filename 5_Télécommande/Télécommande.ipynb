{
 "cells": [
  {
   "cell_type": "markdown",
   "id": "0de87963",
   "metadata": {},
   "source": [
    "# Télécommande sur page Web\n",
    "\n",
    "Inspiration:\n",
    "\n",
    "* https://github.com/jorgerance/gatoBot\n",
    "\n",
    "\n"
   ]
  },
  {
   "cell_type": "code",
   "execution_count": null,
   "id": "ee895914",
   "metadata": {},
   "outputs": [],
   "source": []
  }
 ],
 "metadata": {
  "kernelspec": {
   "display_name": "Python 3 (ipykernel)",
   "language": "python",
   "name": "python3"
  },
  "language_info": {
   "codemirror_mode": {
    "name": "ipython",
    "version": 3
   },
   "file_extension": ".py",
   "mimetype": "text/x-python",
   "name": "python",
   "nbconvert_exporter": "python",
   "pygments_lexer": "ipython3",
   "version": "3.9.7"
  }
 },
 "nbformat": 4,
 "nbformat_minor": 5
}
